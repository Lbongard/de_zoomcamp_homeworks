{
 "cells": [
  {
   "cell_type": "code",
   "execution_count": 1,
   "id": "07de9dc3",
   "metadata": {
    "tags": []
   },
   "outputs": [],
   "source": [
    "import pyspark\n",
    "from pyspark.sql import SparkSession\n",
    "from pyspark.sql import types\n",
    "from pyspark.sql import functions as F"
   ]
  },
  {
   "cell_type": "code",
   "execution_count": 2,
   "id": "da53e150-c623-4a84-aca0-dcea3f139715",
   "metadata": {
    "tags": []
   },
   "outputs": [],
   "source": [
    "# import os\n",
    "\n",
    "# os.environ['SPARK_HOME'] = '/Users/reidbongard/apps/spark-3.5.0-bin-hadoop3'"
   ]
  },
  {
   "cell_type": "code",
   "execution_count": 3,
   "id": "002c48b9-4b36-40f2-a479-57b973ec8479",
   "metadata": {
    "tags": []
   },
   "outputs": [],
   "source": [
    "# # os.environ['SPARK_HOME']\n",
    "# os.environ['PYTHONPATH']"
   ]
  },
  {
   "cell_type": "markdown",
   "id": "3db6a655-ec81-4988-9539-aedb8f0c7006",
   "metadata": {},
   "source": [
    "# Q1"
   ]
  },
  {
   "cell_type": "code",
   "execution_count": 4,
   "id": "ca5bbb06",
   "metadata": {
    "tags": []
   },
   "outputs": [
    {
     "name": "stderr",
     "output_type": "stream",
     "text": [
      "Setting default log level to \"WARN\".\n",
      "To adjust logging level use sc.setLogLevel(newLevel). For SparkR, use setLogLevel(newLevel).\n",
      "24/03/04 12:42:30 WARN NativeCodeLoader: Unable to load native-hadoop library for your platform... using builtin-java classes where applicable\n"
     ]
    }
   ],
   "source": [
    "spark = SparkSession.builder \\\n",
    "    .master(\"local[*]\") \\\n",
    "    .appName('test') \\\n",
    "    .getOrCreate()"
   ]
  },
  {
   "cell_type": "code",
   "execution_count": 5,
   "id": "9da03524-8e72-4109-8ea9-682fab227566",
   "metadata": {
    "tags": []
   },
   "outputs": [
    {
     "data": {
      "text/plain": [
       "'3.5.0'"
      ]
     },
     "execution_count": 5,
     "metadata": {},
     "output_type": "execute_result"
    }
   ],
   "source": [
    "spark.version"
   ]
  },
  {
   "cell_type": "markdown",
   "id": "f849a494-9362-46fe-9ba4-c22684f7f1b4",
   "metadata": {},
   "source": [
    "# Q2"
   ]
  },
  {
   "cell_type": "code",
   "execution_count": 6,
   "id": "ea2b9274-887d-4005-8dd8-e47298ad1ddc",
   "metadata": {
    "tags": []
   },
   "outputs": [],
   "source": [
    "# !wget https://github.com/DataTalksClub/nyc-tlc-data/releases/download/fhv/fhv_tripdata_2019-10.csv.gz -O fhvhv_tripdata_2019-10.csv.gz\n",
    "# ! gzip -d fhvhv_tripdata_2019-10.csv.gz"
   ]
  },
  {
   "cell_type": "code",
   "execution_count": 7,
   "id": "83e23245-a2df-4514-b50a-4d601ac7fb8d",
   "metadata": {
    "tags": []
   },
   "outputs": [],
   "source": [
    "df = spark.read \\\n",
    "    .option(\"header\", \"true\") \\\n",
    "    .csv('fhvhv_tripdata_2019-10.csv')"
   ]
  },
  {
   "cell_type": "code",
   "execution_count": 8,
   "id": "ac40988b-7753-4c3a-804d-8366129aa5fd",
   "metadata": {
    "tags": []
   },
   "outputs": [
    {
     "data": {
      "text/plain": [
       "8"
      ]
     },
     "execution_count": 8,
     "metadata": {},
     "output_type": "execute_result"
    }
   ],
   "source": [
    "df.rdd.getNumPartitions()"
   ]
  },
  {
   "cell_type": "code",
   "execution_count": 9,
   "id": "251540ef-65ea-4f91-9be7-6020eac2d6b2",
   "metadata": {
    "tags": []
   },
   "outputs": [],
   "source": [
    "df = df.coalesce(1)"
   ]
  },
  {
   "cell_type": "code",
   "execution_count": 10,
   "id": "826782fe-eb58-4452-8357-ff16f71bab23",
   "metadata": {
    "tags": []
   },
   "outputs": [
    {
     "name": "stdout",
     "output_type": "stream",
     "text": [
      "+--------------------+-------------------+-------------------+------------+------------+-------+----------------------+\n",
      "|dispatching_base_num|    pickup_datetime|   dropOff_datetime|PUlocationID|DOlocationID|SR_Flag|Affiliated_base_number|\n",
      "+--------------------+-------------------+-------------------+------------+------------+-------+----------------------+\n",
      "|              B00009|2019-10-01 00:23:00|2019-10-01 00:35:00|         264|         264|   NULL|                B00009|\n",
      "|              B00013|2019-10-01 00:11:29|2019-10-01 00:13:22|         264|         264|   NULL|                B00013|\n",
      "|              B00014|2019-10-01 00:11:43|2019-10-01 00:37:20|         264|         264|   NULL|                B00014|\n",
      "|              B00014|2019-10-01 00:56:29|2019-10-01 00:57:47|         264|         264|   NULL|                B00014|\n",
      "|              B00014|2019-10-01 00:23:09|2019-10-01 00:28:27|         264|         264|   NULL|                B00014|\n",
      "|     B00021         |2019-10-01 00:00:48|2019-10-01 00:07:12|         129|         129|   NULL|       B00021         |\n",
      "|     B00021         |2019-10-01 00:47:23|2019-10-01 00:53:25|          57|          57|   NULL|       B00021         |\n",
      "|     B00021         |2019-10-01 00:10:06|2019-10-01 00:19:50|         173|         173|   NULL|       B00021         |\n",
      "|     B00021         |2019-10-01 00:51:37|2019-10-01 01:06:14|         226|         226|   NULL|       B00021         |\n",
      "|     B00021         |2019-10-01 00:28:23|2019-10-01 00:34:33|          56|          56|   NULL|       B00021         |\n",
      "|     B00021         |2019-10-01 00:31:17|2019-10-01 00:51:52|          82|          82|   NULL|       B00021         |\n",
      "|              B00037|2019-10-01 00:07:41|2019-10-01 00:15:23|         264|          71|   NULL|                B00037|\n",
      "|              B00037|2019-10-01 00:13:38|2019-10-01 00:25:51|         264|          39|   NULL|                B00037|\n",
      "|              B00037|2019-10-01 00:42:40|2019-10-01 00:53:47|         264|         188|   NULL|                B00037|\n",
      "|              B00037|2019-10-01 00:58:46|2019-10-01 01:10:11|         264|          91|   NULL|                B00037|\n",
      "|              B00037|2019-10-01 00:09:49|2019-10-01 00:14:37|         264|          71|   NULL|                B00037|\n",
      "|              B00037|2019-10-01 00:22:35|2019-10-01 00:36:53|         264|          35|   NULL|                B00037|\n",
      "|              B00037|2019-10-01 00:54:27|2019-10-01 01:03:37|         264|          61|   NULL|                B00037|\n",
      "|              B00037|2019-10-01 00:08:12|2019-10-01 00:28:47|         264|         198|   NULL|                B00037|\n",
      "|              B00053|2019-10-01 00:05:24|2019-10-01 00:53:03|         264|         264|   NULL|                  #N/A|\n",
      "+--------------------+-------------------+-------------------+------------+------------+-------+----------------------+\n",
      "only showing top 20 rows\n",
      "\n"
     ]
    }
   ],
   "source": [
    "df.show()"
   ]
  },
  {
   "cell_type": "code",
   "execution_count": 11,
   "id": "bbbacaa2-d988-4538-9957-3b53653812db",
   "metadata": {
    "tags": []
   },
   "outputs": [],
   "source": [
    "df = df.repartition(6)"
   ]
  },
  {
   "cell_type": "code",
   "execution_count": 12,
   "id": "1a53ef80-e307-439d-a50c-c727c1b143af",
   "metadata": {
    "tags": []
   },
   "outputs": [
    {
     "name": "stderr",
     "output_type": "stream",
     "text": [
      "[Stage 2:>                                                          (0 + 8) / 8]\r"
     ]
    },
    {
     "data": {
      "text/plain": [
       "6"
      ]
     },
     "execution_count": 12,
     "metadata": {},
     "output_type": "execute_result"
    }
   ],
   "source": [
    "df.rdd.getNumPartitions()"
   ]
  },
  {
   "cell_type": "code",
   "execution_count": 13,
   "id": "67ced538-7b2b-4488-a678-d1abda792a96",
   "metadata": {
    "tags": []
   },
   "outputs": [
    {
     "name": "stderr",
     "output_type": "stream",
     "text": [
      "                                                                                \r"
     ]
    }
   ],
   "source": [
    "df.write.parquet('fhvhv/2019/10/', mode=\"overwrite\")"
   ]
  },
  {
   "cell_type": "code",
   "execution_count": 14,
   "id": "589b9e74-85f7-4cbd-aff2-77649eff98bd",
   "metadata": {
    "tags": []
   },
   "outputs": [
    {
     "name": "stdout",
     "output_type": "stream",
     "text": [
      "total 74496\n",
      "-rw-r--r--  1 reidbongard  staff        0 Mar  4 12:42 _SUCCESS\n",
      "-rw-r--r--  1 reidbongard  staff  6202128 Mar  4 12:42 part-00000-c35704b7-8c35-42fa-87bd-f4a6b134efc7-c000.snappy.parquet\n",
      "-rw-r--r--  1 reidbongard  staff  6202647 Mar  4 12:42 part-00001-c35704b7-8c35-42fa-87bd-f4a6b134efc7-c000.snappy.parquet\n",
      "-rw-r--r--  1 reidbongard  staff  6211938 Mar  4 12:42 part-00002-c35704b7-8c35-42fa-87bd-f4a6b134efc7-c000.snappy.parquet\n",
      "-rw-r--r--  1 reidbongard  staff  6237944 Mar  4 12:42 part-00003-c35704b7-8c35-42fa-87bd-f4a6b134efc7-c000.snappy.parquet\n",
      "-rw-r--r--  1 reidbongard  staff  6203575 Mar  4 12:42 part-00004-c35704b7-8c35-42fa-87bd-f4a6b134efc7-c000.snappy.parquet\n",
      "-rw-r--r--  1 reidbongard  staff  6198001 Mar  4 12:42 part-00005-c35704b7-8c35-42fa-87bd-f4a6b134efc7-c000.snappy.parquet\n"
     ]
    }
   ],
   "source": [
    "! ls -l fhvhv/2019/10/"
   ]
  },
  {
   "cell_type": "code",
   "execution_count": 15,
   "id": "dd865259-3684-46c8-a0d9-c9a8074307bf",
   "metadata": {
    "tags": []
   },
   "outputs": [],
   "source": [
    "# ! rm -r fhvhv/2019/10/"
   ]
  },
  {
   "cell_type": "code",
   "execution_count": 16,
   "id": "dbab1924-52a0-4649-9db9-25e1d43a9ee4",
   "metadata": {
    "tags": []
   },
   "outputs": [
    {
     "data": {
      "text/plain": [
       "['dispatching_base_num',\n",
       " 'pickup_datetime',\n",
       " 'dropOff_datetime',\n",
       " 'PUlocationID',\n",
       " 'DOlocationID',\n",
       " 'SR_Flag',\n",
       " 'Affiliated_base_number']"
      ]
     },
     "execution_count": 16,
     "metadata": {},
     "output_type": "execute_result"
    }
   ],
   "source": [
    "df.columns"
   ]
  },
  {
   "cell_type": "code",
   "execution_count": 17,
   "id": "eb355b5d-9eda-4738-acc5-4ff756d00ebf",
   "metadata": {},
   "outputs": [],
   "source": [
    "from pyspark.sql import SparkSession"
   ]
  },
  {
   "cell_type": "code",
   "execution_count": 18,
   "id": "9a0bb6b9-bbbc-466c-9f1b-a5c87d9a70a6",
   "metadata": {
    "tags": []
   },
   "outputs": [
    {
     "name": "stderr",
     "output_type": "stream",
     "text": [
      "/Users/reidbongard/anaconda3/lib/python3.11/site-packages/pyspark/sql/dataframe.py:329: FutureWarning: Deprecated in 2.0, use createOrReplaceTempView instead.\n",
      "  warnings.warn(\"Deprecated in 2.0, use createOrReplaceTempView instead.\", FutureWarning)\n"
     ]
    }
   ],
   "source": [
    "df.registerTempTable('trips_data')"
   ]
  },
  {
   "cell_type": "markdown",
   "id": "f7ede306-8367-4fa2-8006-e793238b6f41",
   "metadata": {},
   "source": [
    "# Q3"
   ]
  },
  {
   "cell_type": "code",
   "execution_count": 19,
   "id": "204d8ef1-b924-452f-9e62-70a98e2d5336",
   "metadata": {
    "tags": []
   },
   "outputs": [
    {
     "name": "stderr",
     "output_type": "stream",
     "text": [
      "[Stage 6:>                                                          (0 + 8) / 8]\r"
     ]
    },
    {
     "name": "stdout",
     "output_type": "stream",
     "text": [
      "+--------+\n",
      "|count(1)|\n",
      "+--------+\n",
      "|   62610|\n",
      "+--------+\n",
      "\n"
     ]
    },
    {
     "name": "stderr",
     "output_type": "stream",
     "text": [
      "                                                                                \r"
     ]
    }
   ],
   "source": [
    "spark.sql(\"\"\"\n",
    "SELECT\n",
    "    COUNT(*)\n",
    "FROM\n",
    "    trips_data\n",
    "WHERE TO_DATE(pickup_datetime) = '2019-10-15'\n",
    "\n",
    "\"\"\").show()"
   ]
  },
  {
   "cell_type": "markdown",
   "id": "9a5d2b0a-3091-420d-bfc3-2ade998c7f4b",
   "metadata": {},
   "source": [
    "# Q4"
   ]
  },
  {
   "cell_type": "code",
   "execution_count": 20,
   "id": "0181416f-061f-46e4-a256-2351eb910d7d",
   "metadata": {
    "tags": []
   },
   "outputs": [
    {
     "name": "stderr",
     "output_type": "stream",
     "text": [
      "[Stage 14:>                                                         (0 + 6) / 6]\r"
     ]
    },
    {
     "name": "stdout",
     "output_type": "stream",
     "text": [
      "+-------------+\n",
      "|max_trip_time|\n",
      "+-------------+\n",
      "|       631152|\n",
      "+-------------+\n",
      "\n"
     ]
    },
    {
     "name": "stderr",
     "output_type": "stream",
     "text": [
      "                                                                                \r"
     ]
    }
   ],
   "source": [
    "spark.sql(\"\"\"\n",
    "SELECT\n",
    "    MAX(DATEDIFF(hour, t.pickup_datetime, t.dropOff_datetime)) max_trip_time\n",
    "FROM\n",
    "    trips_data t\n",
    "\"\"\").show()"
   ]
  },
  {
   "cell_type": "markdown",
   "id": "73c54508-c6b5-4830-95aa-dbdac059994e",
   "metadata": {},
   "source": [
    "# Q6"
   ]
  },
  {
   "cell_type": "code",
   "execution_count": 21,
   "id": "fb3c3ee2-46db-4257-bcee-d170f61d12f9",
   "metadata": {},
   "outputs": [],
   "source": [
    "# ! wget https://github.com/DataTalksClub/nyc-tlc-data/releases/download/misc/taxi_zone_lookup.csv"
   ]
  },
  {
   "cell_type": "code",
   "execution_count": 22,
   "id": "b519d0a7-b9d2-45f2-98a5-fc1ffabbd9aa",
   "metadata": {
    "tags": []
   },
   "outputs": [],
   "source": [
    "# ! ls"
   ]
  },
  {
   "cell_type": "code",
   "execution_count": 23,
   "id": "460daea3-1c9f-41e3-81aa-5750259a2905",
   "metadata": {
    "tags": []
   },
   "outputs": [],
   "source": [
    "df_zones = spark.read \\\n",
    "    .option(\"header\", \"true\") \\\n",
    "    .csv('taxi_zone_lookup.csv')"
   ]
  },
  {
   "cell_type": "code",
   "execution_count": 24,
   "id": "6a7f1f5d-927e-4a39-8e6d-eb3ab0180c30",
   "metadata": {
    "tags": []
   },
   "outputs": [
    {
     "name": "stdout",
     "output_type": "stream",
     "text": [
      "+----------+-------------+--------------------+------------+\n",
      "|LocationID|      Borough|                Zone|service_zone|\n",
      "+----------+-------------+--------------------+------------+\n",
      "|         1|          EWR|      Newark Airport|         EWR|\n",
      "|         2|       Queens|         Jamaica Bay|   Boro Zone|\n",
      "|         3|        Bronx|Allerton/Pelham G...|   Boro Zone|\n",
      "|         4|    Manhattan|       Alphabet City| Yellow Zone|\n",
      "|         5|Staten Island|       Arden Heights|   Boro Zone|\n",
      "|         6|Staten Island|Arrochar/Fort Wad...|   Boro Zone|\n",
      "|         7|       Queens|             Astoria|   Boro Zone|\n",
      "|         8|       Queens|        Astoria Park|   Boro Zone|\n",
      "|         9|       Queens|          Auburndale|   Boro Zone|\n",
      "|        10|       Queens|        Baisley Park|   Boro Zone|\n",
      "|        11|     Brooklyn|          Bath Beach|   Boro Zone|\n",
      "|        12|    Manhattan|        Battery Park| Yellow Zone|\n",
      "|        13|    Manhattan|   Battery Park City| Yellow Zone|\n",
      "|        14|     Brooklyn|           Bay Ridge|   Boro Zone|\n",
      "|        15|       Queens|Bay Terrace/Fort ...|   Boro Zone|\n",
      "|        16|       Queens|             Bayside|   Boro Zone|\n",
      "|        17|     Brooklyn|             Bedford|   Boro Zone|\n",
      "|        18|        Bronx|        Bedford Park|   Boro Zone|\n",
      "|        19|       Queens|           Bellerose|   Boro Zone|\n",
      "|        20|        Bronx|             Belmont|   Boro Zone|\n",
      "+----------+-------------+--------------------+------------+\n",
      "only showing top 20 rows\n",
      "\n"
     ]
    }
   ],
   "source": [
    "df_zones.show()"
   ]
  },
  {
   "cell_type": "code",
   "execution_count": 25,
   "id": "bbc19eea-8c0a-4abd-81db-e5a96f8cc878",
   "metadata": {
    "tags": []
   },
   "outputs": [
    {
     "name": "stderr",
     "output_type": "stream",
     "text": [
      "[Stage 20:>                                                         (0 + 8) / 8]\r"
     ]
    },
    {
     "name": "stdout",
     "output_type": "stream",
     "text": [
      "+--------------------+-------------------+-------------------+------------+------------+-------+----------------------+\n",
      "|dispatching_base_num|    pickup_datetime|   dropOff_datetime|PUlocationID|DOlocationID|SR_Flag|Affiliated_base_number|\n",
      "+--------------------+-------------------+-------------------+------------+------------+-------+----------------------+\n",
      "|              B01239|2019-10-04 12:15:42|2019-10-04 12:42:54|         264|         247|   NULL|                B03127|\n",
      "|              B00272|2019-10-02 17:30:00|2019-10-02 18:25:00|         264|         264|   NULL|                B00272|\n",
      "|              B01057|2019-10-02 11:00:00|2019-10-02 11:20:00|         264|         264|   NULL|                B01057|\n",
      "|              B02735|2019-10-02 10:57:22|2019-10-02 11:28:59|         264|          20|   NULL|                B02878|\n",
      "|              B01362|2019-10-04 11:49:56|2019-10-04 11:58:13|         264|         159|   NULL|                B01362|\n",
      "|              B01800|2019-10-02 15:35:00|2019-10-02 17:00:00|         264|         264|   NULL|                B01800|\n",
      "|              B02849|2019-10-02 10:30:03|2019-10-02 10:44:38|         264|         217|   NULL|                B02849|\n",
      "|              B02182|2019-10-04 07:28:06|2019-10-04 08:17:26|         264|         264|   NULL|                B02932|\n",
      "|              B01413|2019-10-03 07:45:20|2019-10-03 07:57:45|         145|         161|   NULL|                B01413|\n",
      "|              B02111|2019-10-03 03:43:57|2019-10-03 03:43:59|          92|         135|   NULL|                B02111|\n",
      "|              B00310|2019-10-02 12:30:34|2019-10-02 12:46:36|         264|         242|   NULL|                B00310|\n",
      "|              B00856|2019-10-02 18:23:07|2019-10-02 18:34:21|         264|          72|   NULL|                B00856|\n",
      "|              B03144|2019-10-02 10:26:56|2019-10-02 10:56:42|          61|          33|   NULL|                B03144|\n",
      "|              B02715|2019-10-02 18:29:15|2019-10-02 19:14:23|          75|          33|   NULL|                B02882|\n",
      "|              B02243|2019-10-01 15:19:00|2019-10-01 15:49:00|          94|         167|   NULL|                LX-150|\n",
      "|              B01362|2019-10-02 09:43:06|2019-10-02 09:59:57|         264|         254|   NULL|                B01362|\n",
      "|              B01546|2019-10-02 07:50:00|2019-10-02 07:55:00|         264|         264|   NULL|                B01546|\n",
      "|              B01452|2019-10-02 10:55:31|2019-11-03 11:01:47|         176|         172|   NULL|                B01452|\n",
      "|              B02437|2019-10-02 20:20:05|2019-10-02 20:23:13|         264|         169|   NULL|                B02437|\n",
      "|              B01239|2019-10-02 16:35:51|2019-10-02 16:49:50|         264|         235|   NULL|                B02878|\n",
      "+--------------------+-------------------+-------------------+------------+------------+-------+----------------------+\n",
      "only showing top 20 rows\n",
      "\n"
     ]
    },
    {
     "name": "stderr",
     "output_type": "stream",
     "text": [
      "                                                                                \r"
     ]
    }
   ],
   "source": [
    "df.show()"
   ]
  },
  {
   "cell_type": "code",
   "execution_count": 26,
   "id": "0138fa0f-ec55-4249-b39a-537fcb2ce4a1",
   "metadata": {
    "tags": []
   },
   "outputs": [],
   "source": [
    "df_zones_tmp = df_zones.\\\n",
    "               withColumnRenamed('LocationID', 'PULocationID').\\\n",
    "               withColumnRenamed('Borough', 'PUBorough'). \\\n",
    "               withColumnRenamed('Zone', 'PUZone')"
   ]
  },
  {
   "cell_type": "code",
   "execution_count": 27,
   "id": "c3a750ce-ddae-4f94-a267-ad017e2c9da0",
   "metadata": {},
   "outputs": [],
   "source": [
    "df_joined = df.join(df_zones_tmp, on='PULocationID', how='left')"
   ]
  },
  {
   "cell_type": "code",
   "execution_count": 28,
   "id": "38b07782-0fcf-4baf-b58f-b02f0d80512b",
   "metadata": {
    "tags": []
   },
   "outputs": [
    {
     "name": "stderr",
     "output_type": "stream",
     "text": [
      "                                                                                \r"
     ]
    },
    {
     "data": {
      "text/plain": [
       "[Row(PUlocationID='264', dispatching_base_num='B01239', pickup_datetime='2019-10-04 12:15:42', dropOff_datetime='2019-10-04 12:42:54', DOlocationID='247', SR_Flag=None, Affiliated_base_number='B03127', PUBorough='Unknown', PUZone='NV', service_zone='N/A')]"
      ]
     },
     "execution_count": 28,
     "metadata": {},
     "output_type": "execute_result"
    }
   ],
   "source": [
    "df_joined.head(1)"
   ]
  },
  {
   "cell_type": "code",
   "execution_count": 29,
   "id": "23d436cc-2d86-41a2-bc30-6285ec7b87e0",
   "metadata": {
    "tags": []
   },
   "outputs": [],
   "source": [
    "df_joined.registerTempTable('df_joined')"
   ]
  },
  {
   "cell_type": "code",
   "execution_count": 30,
   "id": "19571be5-7e1b-4e91-9e7a-c55aca9f0a03",
   "metadata": {
    "tags": []
   },
   "outputs": [
    {
     "name": "stderr",
     "output_type": "stream",
     "text": [
      "                                                                                \r"
     ]
    },
    {
     "name": "stdout",
     "output_type": "stream",
     "text": [
      "+--------------------+------------+\n",
      "|              PUZone|pickup_count|\n",
      "+--------------------+------------+\n",
      "|         Jamaica Bay|           1|\n",
      "|Governor's Island...|           2|\n",
      "| Green-Wood Cemetery|           5|\n",
      "|       Broad Channel|           8|\n",
      "|     Highbridge Park|          14|\n",
      "|        Battery Park|          15|\n",
      "|Saint Michaels Ce...|          23|\n",
      "|Breezy Point/Fort...|          25|\n",
      "|Marine Park/Floyd...|          26|\n",
      "|        Astoria Park|          29|\n",
      "|    Inwood Hill Park|          39|\n",
      "|       Willets Point|          47|\n",
      "|Forest Park/Highl...|          53|\n",
      "|  Brooklyn Navy Yard|          57|\n",
      "|        Crotona Park|          62|\n",
      "|        Country Club|          77|\n",
      "|     Freshkills Park|          89|\n",
      "|       Prospect Park|          98|\n",
      "|     Columbia Street|         105|\n",
      "|  South Williamsburg|         110|\n",
      "+--------------------+------------+\n",
      "only showing top 20 rows\n",
      "\n"
     ]
    }
   ],
   "source": [
    "spark.sql(\"\"\"\n",
    "SELECT\n",
    "    PUZone,\n",
    "    count(1) pickup_count\n",
    "FROM\n",
    "    df_joined\n",
    "WHERE MONTH(pickup_datetime) = 10\n",
    "GROUP BY PUZone\n",
    "ORDER BY pickup_count\n",
    "\n",
    "\"\"\").show()"
   ]
  },
  {
   "cell_type": "code",
   "execution_count": null,
   "id": "750a9e4b-e150-42d1-bdbf-d6118bcd9a4c",
   "metadata": {},
   "outputs": [],
   "source": []
  }
 ],
 "metadata": {
  "kernelspec": {
   "display_name": "Python 3 (ipykernel)",
   "language": "python",
   "name": "python3"
  },
  "language_info": {
   "codemirror_mode": {
    "name": "ipython",
    "version": 3
   },
   "file_extension": ".py",
   "mimetype": "text/x-python",
   "name": "python",
   "nbconvert_exporter": "python",
   "pygments_lexer": "ipython3",
   "version": "3.11.0"
  }
 },
 "nbformat": 4,
 "nbformat_minor": 5
}
